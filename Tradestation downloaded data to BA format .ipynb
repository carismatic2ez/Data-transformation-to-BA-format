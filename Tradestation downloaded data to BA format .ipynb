{
 "cells": [
  {
   "cell_type": "code",
   "execution_count": 1,
   "metadata": {},
   "outputs": [],
   "source": [
    "##4 PASTE\n",
    "#data manupulations (must mute line  because you already took out that column )\n",
    "import pandas as pd\n",
    "import numpy as np \n",
    "import csv\n",
    "import sys\n"
   ]
  },
  {
   "cell_type": "code",
   "execution_count": 2,
   "metadata": {},
   "outputs": [],
   "source": [
    "initial = \"ES - 60000 tick TS1\"\n",
    "\n",
    "\n",
    "\n",
    "\n",
    "\n",
    "\n",
    "#W = pd.read_csv(\"C:/Users/jacar/Documents/Data/Futures (TS)/{}.txt\".format(initial))\n",
    "#W.to_csv(\"~/Documents/Data/Futures (TS) CSV/{}.csv\".format(initial), header=True, index=True)"
   ]
  },
  {
   "cell_type": "code",
   "execution_count": 3,
   "metadata": {},
   "outputs": [],
   "source": [
    "W = pd.read_csv(\"C:/Users/jacar/Documents/Data/Futures (TS) CSV/{}.csv\".format(initial))\n",
    "\n",
    "#W = pd.read_csv(r\"C:\\Users\\jacar\\Documents\\Data\\data manipulations\\JY - 720 min (downticks, volratiojp, PVI, OBV, upticks).csv\")\n"
   ]
  },
  {
   "cell_type": "code",
   "execution_count": 4,
   "metadata": {},
   "outputs": [],
   "source": [
    "W.drop ([\"Up\", \"Down\"], axis =1, inplace = True)\n",
    "#W.drop ([\"OI\"], axis =1, inplace = True)\n",
    " "
   ]
  },
  {
   "cell_type": "code",
   "execution_count": 5,
   "metadata": {},
   "outputs": [
    {
     "name": "stdout",
     "output_type": "stream",
     "text": [
      "   Unnamed: 0       Date   Time     Open     High      Low    Close  Volume\n",
      "0         0.0  9/10/1997  15:15  1033.25  1033.50  1013.75  1014.00       0\n",
      "1         1.0  9/11/1997  15:15  1016.25  1016.75   999.75  1008.25       0\n",
      "2         2.0  9/12/1997  15:15  1003.50  1026.00  1003.50  1024.00       0\n",
      "3         3.0  9/15/1997  15:15  1023.50  1029.25  1018.50  1020.75       0\n",
      "4         4.0  9/16/1997  15:15  1020.00  1049.50  1020.00  1045.50       0\n"
     ]
    }
   ],
   "source": [
    "\n",
    "print(W.head())"
   ]
  },
  {
   "cell_type": "code",
   "execution_count": 6,
   "metadata": {},
   "outputs": [
    {
     "name": "stdout",
     "output_type": "stream",
     "text": [
      "        Date   Time     Open     High      Low    Close  Volume\n",
      "0  9/10/1997  15:15  1033.25  1033.50  1013.75  1014.00       0\n",
      "1  9/11/1997  15:15  1016.25  1016.75   999.75  1008.25       0\n",
      "2  9/12/1997  15:15  1003.50  1026.00  1003.50  1024.00       0\n",
      "3  9/15/1997  15:15  1023.50  1029.25  1018.50  1020.75       0\n",
      "4  9/16/1997  15:15  1020.00  1049.50  1020.00  1045.50       0\n"
     ]
    }
   ],
   "source": [
    "fc = W.columns[0]\n",
    "W = W.drop([fc], axis=1)\n",
    "print (W.head())"
   ]
  },
  {
   "cell_type": "code",
   "execution_count": 7,
   "metadata": {},
   "outputs": [
    {
     "name": "stdout",
     "output_type": "stream",
     "text": [
      "        Date   Time     Open     High      Low    Close  Volume\n",
      "0  9/10/1997  15:15  1033.25  1033.50  1013.75  1014.00       0\n",
      "1  9/11/1997  15:15  1016.25  1016.75   999.75  1008.25       0\n",
      "2  9/12/1997  15:15  1003.50  1026.00  1003.50  1024.00       0\n",
      "3  9/15/1997  15:15  1023.50  1029.25  1018.50  1020.75       0\n",
      "4  9/16/1997  15:15  1020.00  1049.50  1020.00  1045.50       0\n"
     ]
    }
   ],
   "source": [
    "W.set_index('Date')\n",
    "print(W.head())"
   ]
  },
  {
   "cell_type": "code",
   "execution_count": 8,
   "metadata": {},
   "outputs": [
    {
     "name": "stdout",
     "output_type": "stream",
     "text": [
      "        Date   Time     Open     High      Low    Close  Volume\n",
      "0  9/10/1997  15:15  1033.25  1033.50  1013.75  1014.00       0\n",
      "1  9/11/1997  15:15  1016.25  1016.75   999.75  1008.25       0\n",
      "2  9/12/1997  15:15  1003.50  1026.00  1003.50  1024.00       0\n",
      "3  9/15/1997  15:15  1023.50  1029.25  1018.50  1020.75       0\n",
      "4  9/16/1997  15:15  1020.00  1049.50  1020.00  1045.50       0\n"
     ]
    }
   ],
   "source": [
    "W[\"Volume\"] = W[\"Volume\"].astype(float).astype(int)\n",
    "print(W.head())"
   ]
  },
  {
   "cell_type": "code",
   "execution_count": 9,
   "metadata": {},
   "outputs": [],
   "source": [
    "#W.to_csv(sys.stdout, index=None)"
   ]
  },
  {
   "cell_type": "code",
   "execution_count": 10,
   "metadata": {},
   "outputs": [],
   "source": [
    "W.to_csv(\"C:/Users/jacar/Documents/Data/Futures (TS)/{}.txt\".format(initial), header=True, index=None)\n",
    "#W.to_csv(\"C:/Users/jacar/Documents/Data/data manipulations/JY - 720 min (downticks, volratiojp, PVI, OBV, upticks).txt\", header=True, index=None)\n"
   ]
  },
  {
   "cell_type": "code",
   "execution_count": null,
   "metadata": {},
   "outputs": [],
   "source": []
  }
 ],
 "metadata": {
  "kernelspec": {
   "display_name": "Python 3",
   "language": "python",
   "name": "python3"
  },
  "language_info": {
   "codemirror_mode": {
    "name": "ipython",
    "version": 3
   },
   "file_extension": ".py",
   "mimetype": "text/x-python",
   "name": "python",
   "nbconvert_exporter": "python",
   "pygments_lexer": "ipython3",
   "version": "3.8.5"
  }
 },
 "nbformat": 4,
 "nbformat_minor": 4
}
